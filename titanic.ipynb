{
 "cells": [
  {
   "cell_type": "code",
   "execution_count": 1,
   "metadata": {
    "collapsed": true,
    "scrolled": true
   },
   "outputs": [],
   "source": [
    "import numpy                       as np\n",
    "import pandas                      as pd\n",
    "import matplotlib.pyplot           as plt\n",
    "import seaborn                     as sns; sns.set()\n",
    "from sklearn.model_selection       import train_test_split,cross_val_score,cross_val_predict\n",
    "from sklearn.linear_model.logistic import LogisticRegression\n",
    "from sklearn.metrics               import confusion_matrix, accuracy_score\n",
    "from sklearn.preprocessing         import LabelEncoder\n",
    "from sklearn.ensemble              import RandomForestClassifier, AdaBoostClassifier,GradientBoostingClassifier\n",
    "from sklearn.tree                  import DecisionTreeClassifier\n",
    "from sklearn.svm                   import LinearSVC,SVC\n",
    "from nameparser                    import HumanName\n",
    "from sklearn                       import preprocessing"
   ]
  },
  {
   "cell_type": "code",
   "execution_count": 2,
   "metadata": {
    "collapsed": true,
    "scrolled": true
   },
   "outputs": [],
   "source": [
    "rng                = np.random.RandomState(42)"
   ]
  },
  {
   "cell_type": "code",
   "execution_count": 3,
   "metadata": {
    "collapsed": true,
    "scrolled": true
   },
   "outputs": [],
   "source": [
    "trainDataFile      = './data/train.csv'\n",
    "testDataFile       = './data/test.csv' \n",
    "train_df           = pd.read_csv(trainDataFile)\n",
    "test_df            = pd.read_csv(testDataFile)\n",
    "\n",
    "#dataframe containing IDs for test data homes\n",
    "test_IDs_df        = pd.DataFrame({'PassengerId':test_df['PassengerId']}) "
   ]
  },
  {
   "cell_type": "code",
   "execution_count": 4,
   "metadata": {
    "collapsed": true,
    "scrolled": true
   },
   "outputs": [],
   "source": [
    "titles        = pd.DataFrame(index=train_df.index,columns=['Title'])#empty at the moment\n",
    "titles_test   = pd.DataFrame(index=test_df.index,columns=['Title'])"
   ]
  },
  {
   "cell_type": "code",
   "execution_count": 5,
   "metadata": {
    "collapsed": true,
    "scrolled": true
   },
   "outputs": [],
   "source": [
    "#This loop is where the titles are determined\n",
    "j = 0\n",
    "for i in train_df['Name']:\n",
    "    name = HumanName(i)\n",
    "    titles.loc[train_df.index[j]] = [name.title]\n",
    "    j = j+1\n",
    "j = 0\n",
    "for i in test_df['Name']:\n",
    "    name = HumanName(i)\n",
    "    titles_test.loc[test_df.index[j]] = [name.title]\n",
    "    j = j+1"
   ]
  },
  {
   "cell_type": "code",
   "execution_count": 6,
   "metadata": {
    "collapsed": true,
    "scrolled": true
   },
   "outputs": [],
   "source": [
    "#Concatenate features and features_titles\n",
    "train_df = pd.concat([train_df,titles],axis=1)\n",
    "test_df  = pd.concat([test_df,titles_test],axis=1)"
   ]
  },
  {
   "cell_type": "code",
   "execution_count": 7,
   "metadata": {
    "scrolled": true
   },
   "outputs": [
    {
     "data": {
      "text/html": [
       "<div>\n",
       "<style scoped>\n",
       "    .dataframe tbody tr th:only-of-type {\n",
       "        vertical-align: middle;\n",
       "    }\n",
       "\n",
       "    .dataframe tbody tr th {\n",
       "        vertical-align: top;\n",
       "    }\n",
       "\n",
       "    .dataframe thead th {\n",
       "        text-align: right;\n",
       "    }\n",
       "</style>\n",
       "<table border=\"1\" class=\"dataframe\">\n",
       "  <thead>\n",
       "    <tr style=\"text-align: right;\">\n",
       "      <th></th>\n",
       "      <th>PassengerId</th>\n",
       "      <th>Survived</th>\n",
       "      <th>Pclass</th>\n",
       "      <th>Name</th>\n",
       "      <th>Sex</th>\n",
       "      <th>Age</th>\n",
       "      <th>SibSp</th>\n",
       "      <th>Parch</th>\n",
       "      <th>Ticket</th>\n",
       "      <th>Fare</th>\n",
       "      <th>Cabin</th>\n",
       "      <th>Embarked</th>\n",
       "      <th>Title</th>\n",
       "    </tr>\n",
       "  </thead>\n",
       "  <tbody>\n",
       "    <tr>\n",
       "      <th>0</th>\n",
       "      <td>1</td>\n",
       "      <td>0</td>\n",
       "      <td>3</td>\n",
       "      <td>Braund, Mr. Owen Harris</td>\n",
       "      <td>male</td>\n",
       "      <td>22.0</td>\n",
       "      <td>1</td>\n",
       "      <td>0</td>\n",
       "      <td>A/5 21171</td>\n",
       "      <td>7.2500</td>\n",
       "      <td>NaN</td>\n",
       "      <td>S</td>\n",
       "      <td>Mr.</td>\n",
       "    </tr>\n",
       "    <tr>\n",
       "      <th>1</th>\n",
       "      <td>2</td>\n",
       "      <td>1</td>\n",
       "      <td>1</td>\n",
       "      <td>Cumings, Mrs. John Bradley (Florence Briggs Th...</td>\n",
       "      <td>female</td>\n",
       "      <td>38.0</td>\n",
       "      <td>1</td>\n",
       "      <td>0</td>\n",
       "      <td>PC 17599</td>\n",
       "      <td>71.2833</td>\n",
       "      <td>C85</td>\n",
       "      <td>C</td>\n",
       "      <td>Mrs.</td>\n",
       "    </tr>\n",
       "    <tr>\n",
       "      <th>2</th>\n",
       "      <td>3</td>\n",
       "      <td>1</td>\n",
       "      <td>3</td>\n",
       "      <td>Heikkinen, Miss. Laina</td>\n",
       "      <td>female</td>\n",
       "      <td>26.0</td>\n",
       "      <td>0</td>\n",
       "      <td>0</td>\n",
       "      <td>STON/O2. 3101282</td>\n",
       "      <td>7.9250</td>\n",
       "      <td>NaN</td>\n",
       "      <td>S</td>\n",
       "      <td>Miss.</td>\n",
       "    </tr>\n",
       "    <tr>\n",
       "      <th>3</th>\n",
       "      <td>4</td>\n",
       "      <td>1</td>\n",
       "      <td>1</td>\n",
       "      <td>Futrelle, Mrs. Jacques Heath (Lily May Peel)</td>\n",
       "      <td>female</td>\n",
       "      <td>35.0</td>\n",
       "      <td>1</td>\n",
       "      <td>0</td>\n",
       "      <td>113803</td>\n",
       "      <td>53.1000</td>\n",
       "      <td>C123</td>\n",
       "      <td>S</td>\n",
       "      <td>Mrs.</td>\n",
       "    </tr>\n",
       "    <tr>\n",
       "      <th>4</th>\n",
       "      <td>5</td>\n",
       "      <td>0</td>\n",
       "      <td>3</td>\n",
       "      <td>Allen, Mr. William Henry</td>\n",
       "      <td>male</td>\n",
       "      <td>35.0</td>\n",
       "      <td>0</td>\n",
       "      <td>0</td>\n",
       "      <td>373450</td>\n",
       "      <td>8.0500</td>\n",
       "      <td>NaN</td>\n",
       "      <td>S</td>\n",
       "      <td>Mr.</td>\n",
       "    </tr>\n",
       "  </tbody>\n",
       "</table>\n",
       "</div>"
      ],
      "text/plain": [
       "   PassengerId  Survived  Pclass  \\\n",
       "0            1         0       3   \n",
       "1            2         1       1   \n",
       "2            3         1       3   \n",
       "3            4         1       1   \n",
       "4            5         0       3   \n",
       "\n",
       "                                                Name     Sex   Age  SibSp  \\\n",
       "0                            Braund, Mr. Owen Harris    male  22.0      1   \n",
       "1  Cumings, Mrs. John Bradley (Florence Briggs Th...  female  38.0      1   \n",
       "2                             Heikkinen, Miss. Laina  female  26.0      0   \n",
       "3       Futrelle, Mrs. Jacques Heath (Lily May Peel)  female  35.0      1   \n",
       "4                           Allen, Mr. William Henry    male  35.0      0   \n",
       "\n",
       "   Parch            Ticket     Fare Cabin Embarked  Title  \n",
       "0      0         A/5 21171   7.2500   NaN        S    Mr.  \n",
       "1      0          PC 17599  71.2833   C85        C   Mrs.  \n",
       "2      0  STON/O2. 3101282   7.9250   NaN        S  Miss.  \n",
       "3      0            113803  53.1000  C123        S   Mrs.  \n",
       "4      0            373450   8.0500   NaN        S    Mr.  "
      ]
     },
     "execution_count": 7,
     "metadata": {},
     "output_type": "execute_result"
    }
   ],
   "source": [
    "train_df.head()"
   ]
  },
  {
   "cell_type": "code",
   "execution_count": 8,
   "metadata": {
    "scrolled": true
   },
   "outputs": [
    {
     "data": {
      "image/png": "[encoded data removed]",
      "text/plain": [
       "<matplotlib.figure.Figure at 0x1a15416940>"
      ]
     },
     "metadata": {},
     "output_type": "display_data"
    }
   ],
   "source": [
    "g = sns.catplot(x='Sex',data=train_df,kind=\"count\", palette=\"ch:.25\")\n",
    "g.set_xticklabels(rotation=30)\n",
    "plt.show()"
   ]
  },
  {
   "cell_type": "code",
   "execution_count": 9,
   "metadata": {
    "collapsed": true,
    "scrolled": true
   },
   "outputs": [],
   "source": [
    "sex             = train_df['Sex']\n",
    "age             = train_df['Age']\n",
    "pclass          = train_df['Pclass']\n",
    "surv_status     = train_df['Survived']\n",
    "#print( len(train_df[ (train_df['Survived'] == 1) & (train_df['Sex'] == 'female') ] ))\n",
    "#a =  (survived_status == 1) \n",
    "#b =  (sex == 'female')\n",
    "#print(len(train_df[a & b]))"
   ]
  },
  {
   "cell_type": "code",
   "execution_count": 10,
   "metadata": {
    "scrolled": true
   },
   "outputs": [
    {
     "name": "stdout",
     "output_type": "stream",
     "text": [
      "female survive over total females =  0.7420382165605095\n",
      "female survive over total passengers =  0.2615039281705948\n",
      "male survive over total males =  0.18890814558058924\n",
      "male survive over total passengers =  0.122334455667789\n",
      "fraction survived =  0.3838383838383838\n"
     ]
    }
   ],
   "source": [
    "num_female = len( train_df[sex == 'female'] )\n",
    "num_male   = len( train_df[sex == 'male'] )\n",
    "tot_pass   = num_female + num_male\n",
    "\n",
    "female_surv            = len( train_df[(sex == 'female') & (surv_status == 1)])\n",
    "print('female survive over total females = ', female_surv/num_female)\n",
    "print('female survive over total passengers = ', female_surv/tot_pass)\n",
    "\n",
    "male_surv              = len( train_df[(sex == 'male') & (surv_status == 1)])\n",
    "print('male survive over total males = ', male_surv/num_male)\n",
    "print('male survive over total passengers = ', male_surv/tot_pass)\n",
    "\n",
    "\n",
    "total_surv             = len( train_df[(surv_status == 1)])\n",
    "print('fraction survived = ', total_surv/tot_pass)"
   ]
  },
  {
   "cell_type": "code",
   "execution_count": 11,
   "metadata": {
    "scrolled": true
   },
   "outputs": [
    {
     "name": "stdout",
     "output_type": "stream",
     "text": [
      "fraction of class 3 to survive =  0.24236252545824846\n",
      "fraction of class 2 to survive =  0.47282608695652173\n",
      "fraction of class 1 to survive =  0.6296296296296297\n"
     ]
    }
   ],
   "source": [
    "class3_surv = len(train_df[(pclass == 3) & (surv_status == 1)])\n",
    "class2_surv = len(train_df[(pclass == 2) & (surv_status == 1)])\n",
    "class1_surv = len(train_df[(pclass == 1) & (surv_status == 1)])\n",
    "\n",
    "class3 = len(train_df[(pclass == 3)])\n",
    "class2 = len(train_df[(pclass == 2)])\n",
    "class1 = len(train_df[(pclass == 1)])\n",
    "\n",
    "print('fraction of class 3 to survive = ', class3_surv/class3)\n",
    "print('fraction of class 2 to survive = ', class2_surv/class2)\n",
    "print('fraction of class 1 to survive = ', class1_surv/class1)\n"
   ]
  },
  {
   "cell_type": "code",
   "execution_count": 12,
   "metadata": {
    "scrolled": true
   },
   "outputs": [
    {
     "name": "stdout",
     "output_type": "stream",
     "text": [
      "count    355.000000\n",
      "mean      25.140620\n",
      "std       12.495398\n",
      "min        0.420000\n",
      "25%       18.000000\n",
      "50%       24.000000\n",
      "75%       32.000000\n",
      "max       74.000000\n",
      "Name: Age, dtype: float64\n"
     ]
    },
    {
     "data": {
      "image/png": "[encoded data removed]",
      "text/plain": [
       "<matplotlib.figure.Figure at 0x103a746d8>"
      ]
     },
     "metadata": {},
     "output_type": "display_data"
    },
    {
     "name": "stdout",
     "output_type": "stream",
     "text": [
      "count    173.000000\n",
      "mean      29.877630\n",
      "std       14.001077\n",
      "min        0.670000\n",
      "25%       23.000000\n",
      "50%       29.000000\n",
      "75%       36.000000\n",
      "max       70.000000\n",
      "Name: Age, dtype: float64\n"
     ]
    },
    {
     "data": {
      "image/png": "[encoded data removed]",
      "text/plain": [
       "<matplotlib.figure.Figure at 0x103b80e48>"
      ]
     },
     "metadata": {},
     "output_type": "display_data"
    },
    {
     "name": "stdout",
     "output_type": "stream",
     "text": [
      "count    186.000000\n",
      "mean      38.233441\n",
      "std       14.802856\n",
      "min        0.920000\n",
      "25%       27.000000\n",
      "50%       37.000000\n",
      "75%       49.000000\n",
      "max       80.000000\n",
      "Name: Age, dtype: float64\n"
     ]
    },
    {
     "data": {
      "image/png": "[encoded data removed]",
      "text/plain": [
       "<matplotlib.figure.Figure at 0x103b6d5c0>"
      ]
     },
     "metadata": {},
     "output_type": "display_data"
    }
   ],
   "source": [
    "#### Age distributions by class ####\n",
    "print(train_df[(pclass == 3)]['Age'].describe())\n",
    "g = sns.distplot(train_df[(pclass == 3)]['Age'].dropna(),kde=False)\n",
    "g.set(xlabel='Class 3 passengers')\n",
    "plt.show()\n",
    "\n",
    "print(train_df[(pclass == 2)]['Age'].describe())\n",
    "g = sns.distplot(train_df[(pclass == 2)]['Age'].dropna(),kde=False)\n",
    "g.set(xlabel='Class 2 passengers')\n",
    "plt.show()\n",
    "\n",
    "print(train_df[(pclass == 1)]['Age'].describe())\n",
    "g = sns.distplot(train_df[(pclass == 1)]['Age'].dropna(),kde=False)\n",
    "g.set(xlabel='Class 1 passengers')\n",
    "plt.show()"
   ]
  },
  {
   "cell_type": "code",
   "execution_count": 18,
   "metadata": {
    "scrolled": true
   },
   "outputs": [
    {
     "name": "stdout",
     "output_type": "stream",
     "text": [
      "count    85.000000\n",
      "mean     20.646118\n",
      "std      11.995047\n",
      "min       0.420000\n",
      "25%      14.000000\n",
      "50%      22.000000\n",
      "75%      29.000000\n",
      "max      63.000000\n",
      "Name: Age, dtype: float64\n"
     ]
    },
    {
     "data": {
      "image/png": "[encoded data removed]",
      "text/plain": [
       "<matplotlib.figure.Figure at 0x1a17ac02b0>"
      ]
     },
     "metadata": {},
     "output_type": "display_data"
    }
   ],
   "source": [
    "##### Age distributions of surviving passengers by class ####\n",
    "#print(train_df[(pclass == 3) & (surv_status == 1) ]['Age'].describe())\n",
    "\n",
    "#bins = np.linspace(0, 80, 30)\n",
    "#g = sns.distplot(train_df[(pclass == 3) & (surv_status == 1) & (sex == 'female')]['Age'].dropna(),\n",
    "#                 kde=False, color='y',bins=np.linspace(0, 80, 20))\n",
    "#sns.distplot(train_df[(pclass == 3) & (surv_status == 1) & (sex == 'male')]['Age'].dropna(),kde=False,bins=np.linspace(0, 90, 20))\n",
    "#g.set(xlabel='Class 3 passengers that survived')\n",
    "#plt.show()"
   ]
  },
  {
   "cell_type": "code",
   "execution_count": 25,
   "metadata": {
    "scrolled": true
   },
   "outputs": [
    {
     "name": "stdout",
     "output_type": "stream",
     "text": [
      "count    47.000000\n",
      "mean     19.329787\n",
      "std      12.303246\n",
      "min       0.750000\n",
      "25%      13.500000\n",
      "50%      19.000000\n",
      "75%      26.500000\n",
      "max      63.000000\n",
      "Name: Age, dtype: float64\n",
      "count    38.000000\n",
      "mean     22.274211\n",
      "std      11.555786\n",
      "min       0.420000\n",
      "25%      16.500000\n",
      "50%      25.000000\n",
      "75%      29.750000\n",
      "max      45.000000\n",
      "Name: Age, dtype: float64\n"
     ]
    },
    {
     "data": {
      "image/png": "[encoded data removed]",
      "text/plain": [
       "<matplotlib.figure.Figure at 0x1a180dd400>"
      ]
     },
     "metadata": {},
     "output_type": "display_data"
    },
    {
     "name": "stdout",
     "output_type": "stream",
     "text": [
      "count    68.000000\n",
      "mean     28.080882\n",
      "std      12.764693\n",
      "min       2.000000\n",
      "25%      21.750000\n",
      "50%      28.000000\n",
      "75%      35.250000\n",
      "max      55.000000\n",
      "Name: Age, dtype: float64\n",
      "count    15.000000\n",
      "mean     16.022000\n",
      "std      19.547122\n",
      "min       0.670000\n",
      "25%       1.000000\n",
      "50%       3.000000\n",
      "75%      31.500000\n",
      "max      62.000000\n",
      "Name: Age, dtype: float64\n"
     ]
    },
    {
     "data": {
      "image/png": "[encoded data removed]",
      "text/plain": [
       "<matplotlib.figure.Figure at 0x1a179eae10>"
      ]
     },
     "metadata": {},
     "output_type": "display_data"
    },
    {
     "name": "stdout",
     "output_type": "stream",
     "text": [
      "count    82.000000\n",
      "mean     34.939024\n",
      "std      13.223014\n",
      "min      14.000000\n",
      "25%      23.250000\n",
      "50%      35.000000\n",
      "75%      44.000000\n",
      "max      63.000000\n",
      "Name: Age, dtype: float64\n",
      "count    40.000000\n",
      "mean     36.248000\n",
      "std      14.936744\n",
      "min       0.920000\n",
      "25%      27.000000\n",
      "50%      36.000000\n",
      "75%      48.000000\n",
      "max      80.000000\n",
      "Name: Age, dtype: float64\n"
     ]
    },
    {
     "data": {
      "image/png": "[encoded data removed]",
      "text/plain": [
       "<matplotlib.figure.Figure at 0x1a17a771d0>"
      ]
     },
     "metadata": {},
     "output_type": "display_data"
    }
   ],
   "source": [
    "bins = np.linspace(0, 80, 20)\n",
    "\n",
    "#### Age distributions of surviving passengers by class ####\n",
    "print(train_df[(pclass == 3) & (surv_status == 1) & (sex == 'female') ]['Age'].describe())\n",
    "print(train_df[(pclass == 3) & (surv_status == 1) & (sex == 'male') ]['Age'].describe())\n",
    "g = sns.distplot(train_df[(pclass == 3) & (surv_status == 1) & (sex == 'female')]['Age'].dropna(),\n",
    "                 kde=False, color='y',bins=bins)\n",
    "sns.distplot(train_df[(pclass == 3) & (surv_status == 1) & (sex == 'male')]['Age'].dropna(),\n",
    "             kde=False,bins=np.linspace(0, 80, 20))\n",
    "g.set(xlabel='Class 3 passengers that survived')\n",
    "plt.show()\n",
    "\n",
    "print(train_df[(pclass == 2) & (surv_status == 1) & (sex == 'female') ]['Age'].describe())\n",
    "print(train_df[(pclass == 2) & (surv_status == 1) & (sex == 'male') ]['Age'].describe())\n",
    "g = sns.distplot(train_df[(pclass == 2) & (surv_status == 1) & (sex == 'female') ]['Age'].dropna(),\n",
    "               kde=False, color='y',bins=bins)\n",
    "sns.distplot(train_df[(pclass == 2) & (surv_status == 1) & (sex == 'male') ]['Age'].dropna(),\n",
    "             kde=False,bins=bins)\n",
    "g.set(xlabel='Class 2 passengers that survived')\n",
    "plt.show()\n",
    "\n",
    "print(train_df[(pclass == 1) & (surv_status == 1) & (sex == 'female') ]['Age'].describe())\n",
    "print(train_df[(pclass == 1) & (surv_status == 1) & (sex == 'male') ]['Age'].describe())\n",
    "g = sns.distplot(train_df[(pclass == 1) & (surv_status == 1) & (sex == 'female')]['Age'].dropna(),\n",
    "               kde=False, color='y',bins=bins)\n",
    "sns.distplot(train_df[(pclass == 1) & (surv_status == 1) & (sex == 'male')]['Age'].dropna(),\n",
    "             kde=False,bins=bins)\n",
    "g.set(xlabel='Class 1 passengers that survived')\n",
    "plt.show()"
   ]
  },
  {
   "cell_type": "code",
   "execution_count": 26,
   "metadata": {
    "scrolled": true
   },
   "outputs": [],
   "source": [
    "##### Age distributions of surviving passengers by class ####\n",
    "#g = sns.distplot(train_df[(pclass == 3) & (surv_status == 1) & (sex == 'female') ]['Age'].dropna(),kde=False)\n",
    "#sns.distplot(train_df[(pclass == 3) & (surv_status == 1) & (sex == 'male') ]['Age'].dropna(),kde=False)\n",
    "#g.set(xlabel='Class 3 passengers that survived')\n",
    "#plt.show()\n"
   ]
  },
  {
   "cell_type": "code",
   "execution_count": 27,
   "metadata": {
    "scrolled": true
   },
   "outputs": [
    {
     "data": {
      "image/png": "[encoded data removed]",
      "text/plain": [
       "<matplotlib.figure.Figure at 0x1a1774d6d8>"
      ]
     },
     "metadata": {},
     "output_type": "display_data"
    }
   ],
   "source": [
    "g = sns.distplot(train_df['Age'].dropna(),kde=False)\n",
    "plt.show()"
   ]
  },
  {
   "cell_type": "code",
   "execution_count": 28,
   "metadata": {
    "collapsed": true,
    "scrolled": true
   },
   "outputs": [],
   "source": [
    "#drop some of the columns from features.\n",
    "train_df      = train_df.drop(['PassengerId','Ticket','Cabin'],axis=1)\n",
    "test_df       = test_df.drop(['PassengerId','Ticket','Cabin'],axis=1)"
   ]
  },
  {
   "cell_type": "code",
   "execution_count": 29,
   "metadata": {
    "collapsed": true,
    "scrolled": true
   },
   "outputs": [],
   "source": [
    "train_y       = pd.DataFrame({'Survived':train_df['Survived']}) \n",
    "train_X       = train_df.drop(['Survived'], axis=1)"
   ]
  },
  {
   "cell_type": "code",
   "execution_count": 30,
   "metadata": {
    "collapsed": true,
    "scrolled": true
   },
   "outputs": [],
   "source": [
    "dfs = [train_X,test_df]\n",
    "\n",
    "for df in dfs:\n",
    "\n",
    "    #produce boolean df's that contain title information\n",
    "    title  = df['Title']\n",
    "\n",
    "    master = (title == 'Master.')\n",
    "    mr     = (title == 'Mr.') \n",
    "    dr     = (title == 'Dr.')    \n",
    "    miss   = ( (title == 'Miss.') | (title == 'Ms.') |\n",
    "               (title == 'Mlle.') )\n",
    "    mrs    = ( (title == 'Mrs.') | (title == 'Lady.') |\n",
    "               (title == 'Mme.') | (title == 'the Countess. of') )\n",
    "\n",
    "    #CONSIDER MAKING YOUNG ONLY DEPENDENT ON IF SHE HAS PARENTS\n",
    "    #Separate the 'Miss.' title into the young (who have siblings and/or parents) and\n",
    "    #into old (who don't have siblings or parents)\n",
    "    young      = (df['SibSp'] != 0) | (df['Parch'] !=0)\n",
    "    miss_young = miss & young\n",
    "    miss_old   = miss & ~young\n",
    "\n",
    "    #Find the median age for each Title category.\n",
    "    age_master       = df.loc[master,'Age'].median()\n",
    "    age_mr           = df.loc[mr,'Age'].median()\n",
    "    age_dr           = df.loc[dr,'Age'].median()\n",
    "    age_miss_old     = df.loc[miss_old,'Age'].median()\n",
    "    age_miss_young   = df.loc[miss_young,'Age'].median()\n",
    "    age_mrs          = df.loc[mrs,'Age'].median()    \n",
    "\n",
    "\n",
    "    #Fill in NaN ages with the median age for the correct Title category\n",
    "\n",
    "    df.loc[master,'Age']     = df.loc[master,'Age'].fillna(age_master)\n",
    "    df.loc[mr,'Age']         = df.loc[mr,'Age'].fillna(age_mr)\n",
    "    df.loc[dr,'Age']         = df.loc[dr,'Age'].fillna(age_dr)\n",
    "    df.loc[miss_old,'Age']   = df.loc[miss_old,'Age'].fillna(age_miss_old)\n",
    "    df.loc[miss_young,'Age'] = df.loc[miss_young,'Age'].fillna(age_miss_young)    \n",
    "    df.loc[mrs,'Age']        = df.loc[mrs,'Age'].fillna(age_mrs)\n",
    "\n",
    "    \n",
    "\n",
    "    df['Embarked'].fillna(df['Embarked'].mode()[0],inplace=True) \n",
    "    df['Fare'].fillna(df['Fare'].median(),inplace=True) \n",
    "    #df['Age'].fillna(df['Age'].median(),inplace=True) "
   ]
  },
  {
   "cell_type": "code",
   "execution_count": 31,
   "metadata": {
    "collapsed": true,
    "scrolled": true
   },
   "outputs": [],
   "source": [
    "train_X = train_X.drop(['Name'],axis=1)\n",
    "test_df = test_df.drop(['Name'],axis=1)"
   ]
  },
  {
   "cell_type": "code",
   "execution_count": 32,
   "metadata": {
    "collapsed": true,
    "scrolled": true
   },
   "outputs": [],
   "source": [
    "train_X = pd.get_dummies(train_X, columns=['Sex'])\n",
    "train_X = pd.get_dummies(train_X, columns=['Embarked'])\n",
    "train_X = pd.get_dummies(train_X, columns=['Title'])"
   ]
  },
  {
   "cell_type": "code",
   "execution_count": 33,
   "metadata": {
    "collapsed": true,
    "scrolled": true
   },
   "outputs": [],
   "source": [
    "test_df = pd.get_dummies(test_df, columns=['Sex'])\n",
    "test_df = pd.get_dummies(test_df, columns=['Embarked'])\n",
    "test_df = pd.get_dummies(test_df, columns=['Title'])        "
   ]
  },
  {
   "cell_type": "code",
   "execution_count": 34,
   "metadata": {
    "scrolled": false
   },
   "outputs": [
    {
     "name": "stdout",
     "output_type": "stream",
     "text": [
      "###before###\n",
      "<class 'pandas.core.frame.DataFrame'>\n",
      "RangeIndex: 891 entries, 0 to 890\n",
      "Data columns (total 25 columns):\n",
      "Pclass                    891 non-null int64\n",
      "Age                       891 non-null float64\n",
      "SibSp                     891 non-null int64\n",
      "Parch                     891 non-null int64\n",
      "Fare                      891 non-null float64\n",
      "Sex_female                891 non-null uint8\n",
      "Sex_male                  891 non-null uint8\n",
      "Embarked_C                891 non-null uint8\n",
      "Embarked_Q                891 non-null uint8\n",
      "Embarked_S                891 non-null uint8\n",
      "Title_                    891 non-null uint8\n",
      "Title_Capt.               891 non-null uint8\n",
      "Title_Col.                891 non-null uint8\n",
      "Title_Dr.                 891 non-null uint8\n",
      "Title_Lady.)              891 non-null uint8\n",
      "Title_Master.             891 non-null uint8\n",
      "Title_Miss.               891 non-null uint8\n",
      "Title_Mlle.               891 non-null uint8\n",
      "Title_Mme.                891 non-null uint8\n",
      "Title_Mr.                 891 non-null uint8\n",
      "Title_Mrs.                891 non-null uint8\n",
      "Title_Ms.                 891 non-null uint8\n",
      "Title_Rev.                891 non-null uint8\n",
      "Title_Sir.                891 non-null uint8\n",
      "Title_the Countess. of    891 non-null uint8\n",
      "dtypes: float64(2), int64(3), uint8(20)\n",
      "memory usage: 52.3 KB\n",
      "None\n",
      "<class 'pandas.core.frame.DataFrame'>\n",
      "RangeIndex: 418 entries, 0 to 417\n",
      "Data columns (total 19 columns):\n",
      "Pclass           418 non-null int64\n",
      "Age              418 non-null float64\n",
      "SibSp            418 non-null int64\n",
      "Parch            418 non-null int64\n",
      "Fare             418 non-null float64\n",
      "Sex_female       418 non-null uint8\n",
      "Sex_male         418 non-null uint8\n",
      "Embarked_C       418 non-null uint8\n",
      "Embarked_Q       418 non-null uint8\n",
      "Embarked_S       418 non-null uint8\n",
      "Title_           418 non-null uint8\n",
      "Title_Col.       418 non-null uint8\n",
      "Title_Dr.        418 non-null uint8\n",
      "Title_Master.    418 non-null uint8\n",
      "Title_Miss.      418 non-null uint8\n",
      "Title_Mr.        418 non-null uint8\n",
      "Title_Mrs.       418 non-null uint8\n",
      "Title_Ms.        418 non-null uint8\n",
      "Title_Rev.       418 non-null uint8\n",
      "dtypes: float64(2), int64(3), uint8(14)\n",
      "memory usage: 22.1 KB\n",
      "None\n",
      "###after###\n",
      "<class 'pandas.core.frame.DataFrame'>\n",
      "RangeIndex: 891 entries, 0 to 890\n",
      "Data columns (total 19 columns):\n",
      "Pclass           891 non-null int64\n",
      "Age              891 non-null float64\n",
      "SibSp            891 non-null int64\n",
      "Parch            891 non-null int64\n",
      "Fare             891 non-null float64\n",
      "Sex_female       891 non-null uint8\n",
      "Sex_male         891 non-null uint8\n",
      "Embarked_C       891 non-null uint8\n",
      "Embarked_Q       891 non-null uint8\n",
      "Embarked_S       891 non-null uint8\n",
      "Title_           891 non-null uint8\n",
      "Title_Col.       891 non-null uint8\n",
      "Title_Dr.        891 non-null uint8\n",
      "Title_Master.    891 non-null uint8\n",
      "Title_Miss.      891 non-null uint8\n",
      "Title_Mr.        891 non-null uint8\n",
      "Title_Mrs.       891 non-null uint8\n",
      "Title_Ms.        891 non-null uint8\n",
      "Title_Rev.       891 non-null uint8\n",
      "dtypes: float64(2), int64(3), uint8(14)\n",
      "memory usage: 47.1 KB\n",
      "None\n",
      "<class 'pandas.core.frame.DataFrame'>\n",
      "RangeIndex: 418 entries, 0 to 417\n",
      "Data columns (total 19 columns):\n",
      "Pclass           418 non-null int64\n",
      "Age              418 non-null float64\n",
      "SibSp            418 non-null int64\n",
      "Parch            418 non-null int64\n",
      "Fare             418 non-null float64\n",
      "Sex_female       418 non-null uint8\n",
      "Sex_male         418 non-null uint8\n",
      "Embarked_C       418 non-null uint8\n",
      "Embarked_Q       418 non-null uint8\n",
      "Embarked_S       418 non-null uint8\n",
      "Title_           418 non-null uint8\n",
      "Title_Col.       418 non-null uint8\n",
      "Title_Dr.        418 non-null uint8\n",
      "Title_Master.    418 non-null uint8\n",
      "Title_Miss.      418 non-null uint8\n",
      "Title_Mr.        418 non-null uint8\n",
      "Title_Mrs.       418 non-null uint8\n",
      "Title_Ms.        418 non-null uint8\n",
      "Title_Rev.       418 non-null uint8\n",
      "dtypes: float64(2), int64(3), uint8(14)\n",
      "memory usage: 22.1 KB\n",
      "None\n"
     ]
    }
   ],
   "source": [
    "print('###before###')\n",
    "print(train_X.info())\n",
    "print(test_df.info())\n",
    "\n",
    "test_df, train_X = test_df.align(train_X,join='inner', axis=1)\n",
    "\n",
    "print('###after###')\n",
    "print(train_X.info())\n",
    "print(test_df.info())"
   ]
  },
  {
   "cell_type": "code",
   "execution_count": 35,
   "metadata": {
    "collapsed": true,
    "scrolled": true
   },
   "outputs": [],
   "source": [
    "#train_X = train_X.drop(['Title_Rev.'],axis=1)\n",
    "#test_df = test_df.drop(['Title_Rev.'],axis=1)\n",
    "\n",
    "#train_X = train_X.drop(['Title_Dr.'],axis=1)\n",
    "#test_df = test_df.drop(['Title_Dr.'],axis=1)"
   ]
  },
  {
   "cell_type": "code",
   "execution_count": 36,
   "metadata": {
    "collapsed": true,
    "scrolled": true
   },
   "outputs": [],
   "source": [
    "#scale data\n",
    "scaler              = preprocessing.StandardScaler()\n",
    "scaler.fit(train_X)\n",
    "np_train_X          = scaler.transform(train_X.values) #this converts pandas dataframe to numpy\n",
    "np_test_df          = scaler.transform(test_df.values)\n",
    "\n",
    "train_X   = pd.DataFrame(np_train_X, index=train_X.index, columns=train_X.columns)\n",
    "test_df   = pd.DataFrame(np_test_df, index=test_df.index, columns=test_df.columns)"
   ]
  },
  {
   "cell_type": "code",
   "execution_count": 37,
   "metadata": {
    "collapsed": true,
    "scrolled": true
   },
   "outputs": [],
   "source": [
    "rows,cols             = train_y.shape\n",
    "train_y_reshape = train_y.values.reshape(rows,) "
   ]
  },
  {
   "cell_type": "code",
   "execution_count": 43,
   "metadata": {
    "scrolled": false
   },
   "outputs": [
    {
     "name": "stdout",
     "output_type": "stream",
     "text": [
      "::::::gradient boosting::::::\n",
      "\n",
      "parameter= 1.000000\n",
      "\n",
      "confusion matrix elements\n",
      "\n",
      "[[467  82]\n",
      " [ 97 245]]\n",
      "cross val score = 0.800182 \n",
      "\n",
      "parameter= 2.000000\n",
      "\n",
      "confusion matrix elements\n",
      "\n",
      "[[488  61]\n",
      " [110 232]]\n",
      "cross val score = 0.823804 \n",
      "\n",
      "parameter= 3.000000\n",
      "\n",
      "confusion matrix elements\n",
      "\n",
      "[[494  55]\n",
      " [105 237]]\n",
      "cross val score = 0.828361 \n",
      "\n",
      "parameter= 4.000000\n",
      "\n",
      "confusion matrix elements\n",
      "\n",
      "[[496  53]\n",
      " [102 240]]\n",
      "cross val score = 0.831731 \n",
      "\n",
      "parameter= 5.000000\n",
      "\n",
      "confusion matrix elements\n",
      "\n",
      "[[493  56]\n",
      " [ 95 247]]\n",
      "cross val score = 0.838423 \n",
      "\n",
      "parameter= 6.000000\n",
      "\n",
      "confusion matrix elements\n",
      "\n",
      "[[488  61]\n",
      " [ 98 244]]\n",
      "cross val score = 0.832805 \n",
      "\n",
      "parameter= 10.000000\n",
      "\n",
      "confusion matrix elements\n",
      "\n",
      "[[456  93]\n",
      " [103 239]]\n",
      "cross val score = 0.779982 \n",
      "\n",
      "parameter= 15.000000\n",
      "\n",
      "confusion matrix elements\n",
      "\n",
      "[[451  98]\n",
      " [ 99 243]]\n",
      "cross val score = 0.775513 \n",
      "\n",
      "parameter= 20.000000\n",
      "\n",
      "confusion matrix elements\n",
      "\n",
      "[[450  99]\n",
      " [101 241]]\n",
      "cross val score = 0.773278 \n",
      "\n",
      "parameter= 30.000000\n",
      "\n",
      "confusion matrix elements\n",
      "\n",
      "[[454  95]\n",
      " [101 241]]\n",
      "cross val score = 0.767685 \n",
      "\n",
      "parameter= 50.000000\n",
      "\n",
      "confusion matrix elements\n",
      "\n",
      "[[452  97]\n",
      " [102 240]]\n",
      "cross val score = 0.771031 \n",
      "\n",
      "parameter= 100.000000\n",
      "\n",
      "confusion matrix elements\n",
      "\n",
      "[[451  98]\n",
      " [102 240]]\n",
      "cross val score = 0.769919 \n",
      "\n",
      "\n",
      "::::::logistic regression::::::\n",
      "\n",
      "parameter= 0.001000\n",
      "\n",
      "confusion matrix elements\n",
      "\n",
      "[[520  29]\n",
      " [163 179]]\n",
      "cross val score = 0.793616 \n",
      "\n",
      "parameter= 0.010000\n",
      "\n",
      "confusion matrix elements\n",
      "\n",
      "[[483  66]\n",
      " [ 95 247]]\n",
      "cross val score = 0.820395 \n",
      "\n",
      "parameter= 0.100000\n",
      "\n",
      "confusion matrix elements\n",
      "\n",
      "[[480  69]\n",
      " [ 88 254]]\n",
      "cross val score = 0.829410 \n",
      "\n",
      "parameter= 1.000000\n",
      "\n",
      "confusion matrix elements\n",
      "\n",
      "[[480  69]\n",
      " [ 84 258]]\n",
      "cross val score = 0.827213 \n",
      "\n",
      "parameter= 10.000000\n",
      "\n",
      "confusion matrix elements\n",
      "\n",
      "[[478  71]\n",
      " [ 85 257]]\n",
      "cross val score = 0.827213 \n",
      "\n",
      "parameter= 100.000000\n",
      "\n",
      "confusion matrix elements\n",
      "\n",
      "[[478  71]\n",
      " [ 85 257]]\n",
      "cross val score = 0.827213 \n",
      "\n",
      "parameter= 1000.000000\n",
      "\n",
      "confusion matrix elements\n",
      "\n",
      "[[478  71]\n",
      " [ 85 257]]\n",
      "cross val score = 0.827213 \n",
      "\n",
      "\n",
      "::::::random forest::::::\n",
      "\n",
      "parameter= 2.000000\n",
      "\n",
      "confusion matrix elements\n",
      "\n",
      "[[468  81]\n",
      " [108 234]]\n",
      "cross val score = 0.786698 \n",
      "\n",
      "parameter= 5.000000\n",
      "\n",
      "confusion matrix elements\n",
      "\n",
      "[[490  59]\n",
      " [ 96 246]]\n",
      "cross val score = 0.830521 \n",
      "\n",
      "parameter= 8.000000\n",
      "\n",
      "confusion matrix elements\n",
      "\n",
      "[[494  55]\n",
      " [101 241]]\n",
      "cross val score = 0.830583 \n",
      "\n",
      "parameter= 10.000000\n",
      "\n",
      "confusion matrix elements\n",
      "\n",
      "[[489  60]\n",
      " [100 242]]\n",
      "cross val score = 0.831744 \n",
      "\n",
      "parameter= 15.000000\n",
      "\n",
      "confusion matrix elements\n",
      "\n",
      "[[478  71]\n",
      " [ 96 246]]\n",
      "cross val score = 0.817150 \n",
      "\n",
      "parameter= 30.000000\n",
      "\n",
      "confusion matrix elements\n",
      "\n",
      "[[472  77]\n",
      " [ 96 246]]\n",
      "cross val score = 0.807038 \n",
      "\n",
      "parameter= 50.000000\n",
      "\n",
      "confusion matrix elements\n",
      "\n",
      "[[473  76]\n",
      " [ 96 246]]\n",
      "cross val score = 0.802581 \n",
      "\n",
      "parameter= 70.000000\n",
      "\n",
      "confusion matrix elements\n",
      "\n",
      "[[472  77]\n",
      " [ 97 245]]\n",
      "cross val score = 0.807075 \n",
      "\n",
      "parameter= 100.000000\n",
      "\n",
      "confusion matrix elements\n",
      "\n",
      "[[471  78]\n",
      " [ 96 246]]\n",
      "cross val score = 0.811532 \n",
      "\n",
      "parameter= 150.000000\n",
      "\n",
      "confusion matrix elements\n",
      "\n",
      "[[469  80]\n",
      " [ 95 247]]\n",
      "cross val score = 0.807062 \n",
      "\n",
      "\n",
      "::::::Linear SVM::::::\n",
      "\n",
      "parameter= 0.001000\n",
      "\n",
      "confusion matrix elements\n",
      "\n",
      "[[462  87]\n",
      " [ 90 252]]\n",
      "cross val score = 0.808060 \n",
      "\n",
      "parameter= 0.010000\n",
      "\n",
      "confusion matrix elements\n",
      "\n",
      "[[481  68]\n",
      " [ 87 255]]\n",
      "cross val score = 0.826064 \n",
      "\n",
      "parameter= 0.020000\n",
      "\n",
      "confusion matrix elements\n",
      "\n",
      "[[482  67]\n",
      " [ 87 255]]\n",
      "cross val score = 0.827175 \n",
      "\n",
      "parameter= 0.040000\n",
      "\n",
      "confusion matrix elements\n",
      "\n",
      "[[482  67]\n",
      " [ 88 254]]\n",
      "cross val score = 0.826051 \n",
      "\n",
      "parameter= 0.060000\n",
      "\n",
      "confusion matrix elements\n",
      "\n",
      "[[482  67]\n",
      " [ 88 254]]\n",
      "cross val score = 0.826051 \n",
      "\n",
      "parameter= 0.080000\n",
      "\n",
      "confusion matrix elements\n",
      "\n",
      "[[482  67]\n",
      " [ 89 253]]\n",
      "cross val score = 0.827188 \n",
      "\n",
      "parameter= 0.100000\n",
      "\n",
      "confusion matrix elements\n",
      "\n",
      "[[482  67]\n",
      " [ 89 253]]\n",
      "cross val score = 0.827188 \n",
      "\n",
      "parameter= 1.000000\n",
      "\n",
      "confusion matrix elements\n",
      "\n",
      "[[481  68]\n",
      " [ 89 253]]\n",
      "cross val score = 0.824940 \n",
      "\n",
      "parameter= 5.000000\n",
      "\n",
      "confusion matrix elements\n",
      "\n",
      "[[485  64]\n",
      " [ 90 252]]\n",
      "cross val score = 0.823804 \n",
      "\n"
     ]
    }
   ],
   "source": [
    "print( '::::::gradient boosting::::::\\n')\n",
    "lam = [1,2,3,4,5,6,10,15,20,30,50,100]\n",
    "#gradient boosting\n",
    "for l in lam:\n",
    "    print('parameter= %f\\n' % l)\n",
    "    clf_gbm = GradientBoostingClassifier(n_estimators=350,max_depth=l,learning_rate=0.01,\n",
    "                                             min_samples_split=4,min_samples_leaf=1)    \n",
    "    clf_gbm.fit(train_X,train_y_reshape)\n",
    "    pred_y_gbm = cross_val_predict(clf_gbm,train_X,train_y_reshape,cv=5)\n",
    "    m = confusion_matrix(train_y_reshape,pred_y_gbm)\n",
    "    print('confusion matrix elements\\n')\n",
    "    print(m)\n",
    "    print('cross val score = %f \\n' %\n",
    "               np.average(cross_val_score(clf_gbm,train_X,train_y_reshape,cv=10, scoring='accuracy'))) \n",
    "\n",
    "\n",
    "print( '\\n::::::logistic regression::::::\\n')        \n",
    "lam = [0.001,0.01,0.1,1.,10.,100.,1000.]\n",
    "for l in lam:\n",
    "    print('parameter= %f\\n' % l)    \n",
    "    clf_logit = LogisticRegression(penalty='l2',C=l,solver='newton-cg')\n",
    "    clf_logit.fit(train_X,train_y_reshape)\n",
    "    pred_y_logit = cross_val_predict(clf_logit,train_X,train_y_reshape,cv=5)\n",
    "    m = confusion_matrix(train_y_reshape,pred_y_logit)\n",
    "    print('confusion matrix elements\\n')\n",
    "    print(m)\n",
    "    print('cross val score = %f \\n' %\n",
    "               np.average(cross_val_score(clf_logit,train_X,train_y_reshape,cv=10, scoring='accuracy')))\n",
    "\n",
    "print( '\\n::::::random forest::::::\\n')\n",
    "lam = [2,5,8,10,15,30,50,70,100,150]\n",
    "#n_estimators = 300 best, acc=.669,trace=353\n",
    "#default max_depth is best\n",
    "for l in lam:\n",
    "    print('parameter= %f\\n' % l)    \n",
    "    clf_rf = RandomForestClassifier(n_estimators=300,max_depth=l)    \n",
    "    clf_rf.fit(train_X,train_y_reshape)\n",
    "    pred_y_rf = cross_val_predict(clf_rf,train_X,train_y_reshape,cv=5)    \n",
    "    m = confusion_matrix(train_y_reshape,pred_y_rf)\n",
    "    print('confusion matrix elements\\n')\n",
    "    print(m)\n",
    "    print('cross val score = %f \\n' %\n",
    "               np.average(cross_val_score(clf_rf,train_X,train_y_reshape,cv=10, scoring='accuracy')))        \n",
    "\n",
    "\n",
    "print( '\\n::::::Linear SVM::::::\\n')\n",
    "lam = [0.001,0.01,0.02,0.04,0.06,0.08,0.10,1.0,5.0]    \n",
    "for l in lam:\n",
    "    print('parameter= %f\\n' % l)    \n",
    "    clf_lsvm = LinearSVC(C=l)\n",
    "    clf_lsvm.fit(train_X,train_y_reshape)\n",
    "    pred_y_lsvm = cross_val_predict(clf_lsvm,train_X,train_y_reshape,cv=5)        \n",
    "    m = confusion_matrix(train_y_reshape,pred_y_lsvm)\n",
    "    print('confusion matrix elements\\n')\n",
    "    print(m)\n",
    "    print('cross val score = %f \\n' %\n",
    "               np.average(cross_val_score(clf_lsvm,train_X,train_y_reshape,cv=10, scoring='accuracy'))) \n"
   ]
  },
  {
   "cell_type": "code",
   "execution_count": 41,
   "metadata": {
    "collapsed": true,
    "scrolled": false
   },
   "outputs": [],
   "source": [
    "clf_gbm = GradientBoostingClassifier(n_estimators=350,max_depth=3,learning_rate=0.01,\n",
    "                                             min_samples_split=4,min_samples_leaf=1)    \n",
    "clf_gbm.fit(train_X,train_y_reshape)\n",
    "pred_test_gbm = clf_gbm.predict(test_df)"
   ]
  },
  {
   "cell_type": "code",
   "execution_count": 42,
   "metadata": {
    "collapsed": true
   },
   "outputs": [],
   "source": [
    "pred = pd.DataFrame({'PassengerId':test_IDs_df['PassengerId'],'Survived':pred_test_gbm})\n",
    "\n",
    "pred.to_csv('./output/titanic_submission_gbm_new.csv',index=False)"
   ]
  },
  {
   "cell_type": "code",
   "execution_count": null,
   "metadata": {
    "collapsed": true
   },
   "outputs": [],
   "source": []
  }
 ],
 "metadata": {
  "kernelspec": {
   "display_name": "Python 3",
   "language": "python",
   "name": "python3"
  },
  "language_info": {
   "codemirror_mode": {
    "name": "ipython",
    "version": 3
   },
   "file_extension": ".py",
   "mimetype": "text/x-python",
   "name": "python",
   "nbconvert_exporter": "python",
   "pygments_lexer": "ipython3",
   "version": "3.6.3"
  }
 },
 "nbformat": 4,
 "nbformat_minor": 2
}
